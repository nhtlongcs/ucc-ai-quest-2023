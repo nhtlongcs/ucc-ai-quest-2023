{
 "cells": [
  {
   "cell_type": "markdown",
   "metadata": {
    "id": "4Q7nlrsOKfAj"
   },
   "source": [
    "## Inference guide"
   ]
  },
  {
   "cell_type": "code",
   "execution_count": 1,
   "outputs": [],
   "source": [
    "import os\n",
    "import shutil\n",
    "import os.path as osp\n",
    "\n",
    "import json \n",
    "import os\n"
   ],
   "metadata": {
    "collapsed": false,
    "ExecuteTime": {
     "end_time": "2024-02-07T02:44:37.203408914Z",
     "start_time": "2024-02-07T02:44:37.203293146Z"
    }
   }
  },
  {
   "cell_type": "code",
   "execution_count": 2,
   "outputs": [],
   "source": [
    "TEST_IMG_DIR = '../data/public/img/test/'"
   ],
   "metadata": {
    "collapsed": false,
    "ExecuteTime": {
     "end_time": "2024-02-07T02:44:37.203495453Z",
     "start_time": "2024-02-07T02:44:37.203356015Z"
    }
   }
  },
  {
   "cell_type": "code",
   "execution_count": 3,
   "outputs": [],
   "source": [
    "from natsort import natsorted"
   ],
   "metadata": {
    "collapsed": false,
    "ExecuteTime": {
     "end_time": "2024-02-07T02:44:37.203519473Z",
     "start_time": "2024-02-07T02:44:37.203371415Z"
    }
   }
  },
  {
   "cell_type": "code",
   "execution_count": 4,
   "outputs": [],
   "source": [
    "# current_dir = os.getcwd()\n",
    "# current_dir\n"
   ],
   "metadata": {
    "collapsed": false,
    "ExecuteTime": {
     "end_time": "2024-02-07T02:44:37.203536343Z",
     "start_time": "2024-02-07T02:44:37.203384045Z"
    }
   }
  },
  {
   "cell_type": "code",
   "execution_count": 5,
   "outputs": [],
   "source": [
    "# test_img_size = 380\n",
    "test_img_size = None"
   ],
   "metadata": {
    "collapsed": false,
    "ExecuteTime": {
     "end_time": "2024-02-07T02:44:37.210955847Z",
     "start_time": "2024-02-07T02:44:37.203911488Z"
    }
   }
  },
  {
   "cell_type": "code",
   "execution_count": 6,
   "outputs": [],
   "source": [
    "runs_dir = '/home/tuantran/ucc-ai-quest-2023/runs/equal_ensemble_public'"
   ],
   "metadata": {
    "collapsed": false,
    "ExecuteTime": {
     "end_time": "2024-02-07T02:44:37.220516883Z",
     "start_time": "2024-02-07T02:44:37.211442051Z"
    }
   }
  },
  {
   "cell_type": "code",
   "execution_count": 7,
   "outputs": [
    {
     "data": {
      "text/plain": "['fold_3-regnety_upernet-epoch_70',\n 'mask2former-ade-small-epoch_28',\n 'fold_0-segformer-b3-ade-epoch_85',\n 'fold_3-mask2former-ade-Mask2former-epoch_97',\n 'fold_4-mask2former-ade-small-epoch_93',\n 'fold_2-convnext_sfnet-color_augment-smooth_losses-epoch_13',\n 'fold_2-regnety_upernet-epoch_94',\n 'convnext_sfnet-adamw-color_augment-smooth_losses-RepeatedWarmupPolyLR-epoch_93',\n 'fold_0-mask2former-ade-epoch_8',\n 'fold_1-regnety_upernet-epoch_99',\n 'fold_4-segformer-b3-ade-epoch_99',\n 'fold_3-mask2former-city_21k-large-epoch_89',\n 'fold_0-mask2former-ade-small-epoch_82',\n 'fold_2-segformer-b4-ade-SIZE-380-epoch_67',\n 'fold_4-convnext_ssl_sfnet-epoch_55',\n 'fold_0-convnext_ssl_sfnet-epoch_98',\n 'fold_1-segformer-b4-ade-SIZE-380-epoch_77',\n 'fold_1-mask2former-ade-epoch_6',\n 'fold_0-regnety_upernet-epoch_91',\n 'fold_2-segformer-b4-ade-epoch_91',\n 'fold_2-mask2former-ade-epoch_98',\n 'mask2former-ade-epoch_31',\n 'fold_0-segformer-b5-ade-epoch_83',\n 'fold_3-segformer-b5-ade-380-epoch_55',\n 'fold_0-segformer-b5-ade-380-epoch_88',\n 'fold_0-convnext_sfnet-color_augment-smooth_losses-epoch_90',\n 'convnext_v1_sfnet-adamw-color_augment-smooth_losses-epoch_27',\n 'fold_1-convnext_ssl_sfnet-epoch_96',\n 'segformer-b4-ade-16-epoch_8',\n 'fold_3-segformer-b5-ade-epoch_70',\n 'segformer-b5-ade-epoch_17',\n 'fold_1-segformer-b4-ade-epoch_97',\n 'fold_3-convnext_ssl_sfnet-epoch_99',\n 'fold_0-mask2former-ade-21k-epoch_98']"
     },
     "execution_count": 7,
     "metadata": {},
     "output_type": "execute_result"
    }
   ],
   "source": [
    "exp_list = [x for x in os.listdir(runs_dir) if osp.isdir(osp.join(runs_dir, x))]\n",
    "exp_list"
   ],
   "metadata": {
    "collapsed": false,
    "ExecuteTime": {
     "end_time": "2024-02-07T02:44:37.232821293Z",
     "start_time": "2024-02-07T02:44:37.221127295Z"
    }
   }
  },
  {
   "cell_type": "code",
   "execution_count": 8,
   "outputs": [
    {
     "name": "stdout",
     "output_type": "stream",
     "text": [
      "Skipping: convnext_sfnet-adamw-color_augment-smooth_losses-RepeatedWarmupPolyLR-epoch_93\n",
      "Skipping: convnext_v1_sfnet-adamw-color_augment-smooth_losses-epoch_27\n",
      "Skipping: fold_0-convnext_sfnet-color_augment-smooth_losses-epoch_90\n",
      "Skipping: fold_0-convnext_ssl_sfnet-epoch_98\n",
      "Skipping: fold_0-mask2former-ade-21k-epoch_98\n",
      "Skipping: fold_0-mask2former-ade-epoch_8\n",
      "Skipping: fold_0-mask2former-ade-small-epoch_82\n",
      "Skipping: fold_0-regnety_upernet-epoch_91\n",
      "Skipping: fold_0-segformer-b3-ade-epoch_85\n",
      "Skipping: fold_0-segformer-b5-ade-380-epoch_88\n",
      "Skipping: fold_0-segformer-b5-ade-epoch_83\n",
      "Skipping: fold_1-convnext_ssl_sfnet-epoch_96\n",
      "Skipping: fold_1-mask2former-ade-epoch_6\n",
      "Skipping: fold_1-regnety_upernet-epoch_99\n",
      "Skipping: fold_1-segformer-b4-ade-SIZE-380-epoch_77\n",
      "Skipping: fold_1-segformer-b4-ade-epoch_97\n",
      "Skipping: fold_2-convnext_sfnet-color_augment-smooth_losses-epoch_13\n",
      "Skipping: fold_2-mask2former-ade-epoch_98\n",
      "Skipping: fold_2-regnety_upernet-epoch_94\n",
      "Skipping: fold_2-segformer-b4-ade-SIZE-380-epoch_67\n",
      "Skipping: fold_2-segformer-b4-ade-epoch_91\n",
      "Skipping: fold_3-convnext_ssl_sfnet-epoch_99\n",
      "Skipping: fold_3-mask2former-ade-Mask2former-epoch_97\n",
      "Skipping: fold_3-mask2former-city_21k-large-epoch_89\n",
      "Skipping: fold_3-regnety_upernet-epoch_70\n",
      "Skipping: fold_3-segformer-b5-ade-380-epoch_55\n",
      "Skipping: fold_3-segformer-b5-ade-epoch_70\n",
      "Skipping: fold_4-convnext_ssl_sfnet-epoch_55\n",
      "Skipping: fold_4-mask2former-ade-small-epoch_93\n",
      "Skipping: fold_4-segformer-b3-ade-epoch_99\n",
      "Running experiment: mask2former-ade-epoch_31\n",
      "Overriding configurating\r\n",
      "Some weights of Mask2FormerForUniversalSegmentation were not initialized from the model checkpoint at facebook/mask2former-swin-base-ade-semantic and are newly initialized because the shapes did not match:\r\n",
      "- model.transformer_module.queries_embedder.weight: found shape torch.Size([100, 256]) in the checkpoint and torch.Size([2, 256]) in the model instantiated\r\n",
      "- model.transformer_module.queries_features.weight: found shape torch.Size([100, 256]) in the checkpoint and torch.Size([2, 256]) in the model instantiated\r\n",
      "You should probably TRAIN this model on a down-stream task to be able to use it for predictions and inference.\r\n",
      "[WARNING] learning rate is not defined, auto set to 1e-3\r\n",
      "Some weights of Mask2FormerForUniversalSegmentation were not initialized from the model checkpoint at facebook/mask2former-swin-base-IN21k-ade-semantic and are newly initialized because the shapes did not match:\r\n",
      "- model.transformer_module.queries_embedder.weight: found shape torch.Size([100, 256]) in the checkpoint and torch.Size([2, 256]) in the model instantiated\r\n",
      "- model.transformer_module.queries_features.weight: found shape torch.Size([100, 256]) in the checkpoint and torch.Size([2, 256]) in the model instantiated\r\n",
      "You should probably TRAIN this model on a down-stream task to be able to use it for predictions and inference.\r\n",
      "GPU available: True (cuda), used: True\r\n",
      "TPU available: False, using: 0 TPU cores\r\n",
      "IPU available: False, using: 0 IPUs\r\n",
      "HPU available: False, using: 0 HPUs\r\n",
      "You are using a CUDA device ('NVIDIA GeForce RTX 4090') that has Tensor Cores. To properly utilize them, you should set `torch.set_float32_matmul_precision('medium' | 'high')` which will trade-off precision for performance. For more details, read https://pytorch.org/docs/stable/generated/torch.set_float32_matmul_precision.html#torch.set_float32_matmul_precision\r\n",
      "LOCAL_RANK: 0 - CUDA_VISIBLE_DEVICES: [0]\r\n",
      "Predicting DataLoader 0: 100%|████████████████| 682/682 [00:37<00:00, 18.16it/s]\r\n",
      "  adding: home/tuantran/ucc-ai-quest-2023/runs/equal_ensemble_public/mask2former-ade-epoch_31/results.json (deflated 64%)\r\n",
      "Running experiment: mask2former-ade-small-epoch_28\n",
      "Overriding configurating\r\n",
      "Some weights of Mask2FormerForUniversalSegmentation were not initialized from the model checkpoint at facebook/mask2former-swin-base-ade-semantic and are newly initialized because the shapes did not match:\r\n",
      "- model.transformer_module.queries_embedder.weight: found shape torch.Size([100, 256]) in the checkpoint and torch.Size([2, 256]) in the model instantiated\r\n",
      "- model.transformer_module.queries_features.weight: found shape torch.Size([100, 256]) in the checkpoint and torch.Size([2, 256]) in the model instantiated\r\n",
      "You should probably TRAIN this model on a down-stream task to be able to use it for predictions and inference.\r\n",
      "[WARNING] learning rate is not defined, auto set to 1e-3\r\n",
      "Some weights of Mask2FormerForUniversalSegmentation were not initialized from the model checkpoint at facebook/mask2former-swin-small-ade-semantic and are newly initialized because the shapes did not match:\r\n",
      "- model.transformer_module.queries_embedder.weight: found shape torch.Size([100, 256]) in the checkpoint and torch.Size([2, 256]) in the model instantiated\r\n",
      "- model.transformer_module.queries_features.weight: found shape torch.Size([100, 256]) in the checkpoint and torch.Size([2, 256]) in the model instantiated\r\n",
      "You should probably TRAIN this model on a down-stream task to be able to use it for predictions and inference.\r\n",
      "GPU available: True (cuda), used: True\r\n",
      "TPU available: False, using: 0 TPU cores\r\n",
      "IPU available: False, using: 0 IPUs\r\n",
      "HPU available: False, using: 0 HPUs\r\n",
      "You are using a CUDA device ('NVIDIA GeForce RTX 4090') that has Tensor Cores. To properly utilize them, you should set `torch.set_float32_matmul_precision('medium' | 'high')` which will trade-off precision for performance. For more details, read https://pytorch.org/docs/stable/generated/torch.set_float32_matmul_precision.html#torch.set_float32_matmul_precision\r\n",
      "LOCAL_RANK: 0 - CUDA_VISIBLE_DEVICES: [0]\r\n",
      "Predicting DataLoader 0: 100%|████████████████| 682/682 [00:35<00:00, 19.09it/s]\r\n",
      "  adding: home/tuantran/ucc-ai-quest-2023/runs/equal_ensemble_public/mask2former-ade-small-epoch_28/results.json (deflated 64%)\r\n",
      "Running experiment: segformer-b4-ade-16-epoch_8\n",
      "Overriding configurating\r\n",
      "Some weights of SegformerForSemanticSegmentation were not initialized from the model checkpoint at nvidia/segformer-b3-finetuned-ade-512-512 and are newly initialized because the shapes did not match:\r\n",
      "- decode_head.classifier.weight: found shape torch.Size([150, 768, 1, 1]) in the checkpoint and torch.Size([2, 768, 1, 1]) in the model instantiated\r\n",
      "- decode_head.classifier.bias: found shape torch.Size([150]) in the checkpoint and torch.Size([2]) in the model instantiated\r\n",
      "You should probably TRAIN this model on a down-stream task to be able to use it for predictions and inference.\r\n",
      "[WARNING] learning rate is not defined, auto set to 1e-3\r\n",
      "Some weights of SegformerForSemanticSegmentation were not initialized from the model checkpoint at nvidia/segformer-b4-finetuned-ade-512-512 and are newly initialized because the shapes did not match:\r\n",
      "- decode_head.classifier.weight: found shape torch.Size([150, 768, 1, 1]) in the checkpoint and torch.Size([2, 768, 1, 1]) in the model instantiated\r\n",
      "- decode_head.classifier.bias: found shape torch.Size([150]) in the checkpoint and torch.Size([2]) in the model instantiated\r\n",
      "You should probably TRAIN this model on a down-stream task to be able to use it for predictions and inference.\r\n",
      "GPU available: True (cuda), used: True\r\n",
      "TPU available: False, using: 0 TPU cores\r\n",
      "IPU available: False, using: 0 IPUs\r\n",
      "HPU available: False, using: 0 HPUs\r\n",
      "You are using a CUDA device ('NVIDIA GeForce RTX 4090') that has Tensor Cores. To properly utilize them, you should set `torch.set_float32_matmul_precision('medium' | 'high')` which will trade-off precision for performance. For more details, read https://pytorch.org/docs/stable/generated/torch.set_float32_matmul_precision.html#torch.set_float32_matmul_precision\r\n",
      "LOCAL_RANK: 0 - CUDA_VISIBLE_DEVICES: [0]\r\n",
      "Predicting DataLoader 0: 100%|████████████████| 682/682 [00:12<00:00, 52.49it/s]\r\n",
      "  adding: home/tuantran/ucc-ai-quest-2023/runs/equal_ensemble_public/segformer-b4-ade-16-epoch_8/results.json (deflated 64%)\r\n",
      "Running experiment: segformer-b5-ade-epoch_17\n",
      "Overriding configurating\r\n",
      "Some weights of SegformerForSemanticSegmentation were not initialized from the model checkpoint at nvidia/segformer-b3-finetuned-ade-512-512 and are newly initialized because the shapes did not match:\r\n",
      "- decode_head.classifier.weight: found shape torch.Size([150, 768, 1, 1]) in the checkpoint and torch.Size([2, 768, 1, 1]) in the model instantiated\r\n",
      "- decode_head.classifier.bias: found shape torch.Size([150]) in the checkpoint and torch.Size([2]) in the model instantiated\r\n",
      "You should probably TRAIN this model on a down-stream task to be able to use it for predictions and inference.\r\n",
      "[WARNING] learning rate is not defined, auto set to 1e-3\r\n",
      "Some weights of SegformerForSemanticSegmentation were not initialized from the model checkpoint at nvidia/segformer-b5-finetuned-ade-640-640 and are newly initialized because the shapes did not match:\r\n",
      "- decode_head.classifier.weight: found shape torch.Size([150, 768, 1, 1]) in the checkpoint and torch.Size([2, 768, 1, 1]) in the model instantiated\r\n",
      "- decode_head.classifier.bias: found shape torch.Size([150]) in the checkpoint and torch.Size([2]) in the model instantiated\r\n",
      "You should probably TRAIN this model on a down-stream task to be able to use it for predictions and inference.\r\n",
      "GPU available: True (cuda), used: True\r\n",
      "TPU available: False, using: 0 TPU cores\r\n",
      "IPU available: False, using: 0 IPUs\r\n",
      "HPU available: False, using: 0 HPUs\r\n",
      "You are using a CUDA device ('NVIDIA GeForce RTX 4090') that has Tensor Cores. To properly utilize them, you should set `torch.set_float32_matmul_precision('medium' | 'high')` which will trade-off precision for performance. For more details, read https://pytorch.org/docs/stable/generated/torch.set_float32_matmul_precision.html#torch.set_float32_matmul_precision\r\n",
      "LOCAL_RANK: 0 - CUDA_VISIBLE_DEVICES: [0]\r\n",
      "Predicting DataLoader 0: 100%|████████████████| 682/682 [00:15<00:00, 45.32it/s]\r\n",
      "  adding: home/tuantran/ucc-ai-quest-2023/runs/equal_ensemble_public/segformer-b5-ade-epoch_17/results.json (deflated 64%)\r\n"
     ]
    }
   ],
   "source": [
    "for EXP_NAME in natsorted(exp_list):\n",
    "    exp_dir = osp.join(runs_dir, EXP_NAME)\n",
    "    CFG_PATH = osp.join(exp_dir, 'inference.yml')\n",
    "    \n",
    "    # shutil.copy(CFG_PATH, EXP_NAME)\n",
    "    # with open(CFG_PATH, 'w') as f:\n",
    "    #     f.write(config)\n",
    "    \n",
    "    if test_img_size is not None:\n",
    "        with open(CFG_PATH, 'r') as f:\n",
    "            config = f.read()\n",
    "            config = config.replace('SIZE: null # ORIGINAL SIZE', f'SIZE: {test_img_size}')\n",
    "            config = config.replace('SIZE: 380', f'SIZE: {test_img_size}')\n",
    "            config = config.replace('SIZE: 384', f'SIZE: {test_img_size}')\n",
    "        \n",
    "        with open(CFG_PATH, 'w') as f:\n",
    "            f.write(config)\n",
    "            \n",
    "        with open(CFG_PATH, 'r') as f:\n",
    "            config = f.read()\n",
    "            assert f'SIZE: {test_img_size}' in config\n",
    "    \n",
    "    RUN_FLAG = True\n",
    "    with open(osp.join(exp_dir, 'results.json'), 'r') as f:\n",
    "        j = json.loads(f.read())\n",
    "        if len(j) == len(os.listdir(TEST_IMG_DIR)):\n",
    "            RUN_FLAG = False\n",
    "\n",
    "    if RUN_FLAG:\n",
    "        print(f'Running experiment:', EXP_NAME)\n",
    "        pretrained_weights = osp.join(exp_dir, 'best.ckpt')\n",
    "        !ucc-pred   -c  {exp_dir}/inference.yml \\\n",
    "                -o  global.pretrained={pretrained_weights}\\\n",
    "                    data.IMG_DIR={TEST_IMG_DIR} \\\n",
    "                    global.save_path={exp_dir}/results.json\n",
    "                    \n",
    "        with open(osp.join(exp_dir, 'results.json'), 'r') as f:\n",
    "            j = json.loads(f.read())\n",
    "        assert len(j) == len(os.listdir(TEST_IMG_DIR))\n",
    "        \n",
    "        !rm -rf {exp_dir}/results.zip\n",
    "        !zip {exp_dir}/results.zip {exp_dir}/results.json\n",
    "    else:\n",
    "        print('Skipping:', EXP_NAME)"
   ],
   "metadata": {
    "collapsed": false,
    "ExecuteTime": {
     "end_time": "2024-02-07T02:46:46.579711551Z",
     "start_time": "2024-02-07T02:44:37.237301364Z"
    }
   }
  },
  {
   "cell_type": "code",
   "execution_count": 8,
   "outputs": [],
   "source": [],
   "metadata": {
    "collapsed": false,
    "ExecuteTime": {
     "end_time": "2024-02-07T02:46:46.585911401Z",
     "start_time": "2024-02-07T02:46:46.579866719Z"
    }
   }
  }
 ],
 "metadata": {
  "accelerator": "GPU",
  "colab": {
   "collapsed_sections": [],
   "name": "[AIC22][VER] Training Colors Classifier guide.ipynb",
   "provenance": []
  },
  "kernelspec": {
   "display_name": "Python 3 (ipykernel)",
   "language": "python",
   "name": "python3"
  },
  "language_info": {
   "codemirror_mode": {
    "name": "ipython",
    "version": 3
   },
   "file_extension": ".py",
   "mimetype": "text/x-python",
   "name": "python",
   "nbconvert_exporter": "python",
   "pygments_lexer": "ipython3",
   "version": "3.11.7"
  },
  "vscode": {
   "interpreter": {
    "hash": "20ae68c5166a594adc0b9bc0156f781891935baaf9f86f15a7c294214ff40d3d"
   }
  },
  "widgets": {
   "application/vnd.jupyter.widget-state+json": {}
  }
 },
 "nbformat": 4,
 "nbformat_minor": 4
}
