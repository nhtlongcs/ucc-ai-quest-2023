{
 "cells": [
  {
   "cell_type": "code",
   "execution_count": 2,
   "id": "fc8ad92c-3f52-4d97-9c28-c301982396c2",
   "metadata": {
    "ExecuteTime": {
     "end_time": "2024-01-28T01:00:59.591837328Z",
     "start_time": "2024-01-28T01:00:59.585722558Z"
    }
   },
   "outputs": [],
   "source": [
    "import torch\n",
    "import torch.nn as nn\n",
    "import torch.nn.functional as F\n",
    "import torchvision"
   ]
  },
  {
   "cell_type": "code",
   "execution_count": 3,
   "id": "87cde81c-3644-4fc6-866b-bddaa792866c",
   "metadata": {
    "ExecuteTime": {
     "end_time": "2024-01-28T01:01:00.256984559Z",
     "start_time": "2024-01-28T01:01:00.250677562Z"
    }
   },
   "outputs": [],
   "source": [
    "NUM_CLASSES = 2"
   ]
  },
  {
   "cell_type": "code",
   "execution_count": 4,
   "id": "998e44b8-36e8-4646-b449-28b6591058fb",
   "metadata": {
    "ExecuteTime": {
     "end_time": "2024-01-28T01:01:01.096730355Z",
     "start_time": "2024-01-28T01:01:00.681791722Z"
    }
   },
   "outputs": [],
   "source": [
    "model = torchvision.models.segmentation.fcn_resnet101(\n",
    "    num_classes=NUM_CLASSES\n",
    ")"
   ]
  },
  {
   "cell_type": "code",
   "execution_count": 5,
   "id": "5e6f88bb-78e0-48d7-96d0-68617d5f7087",
   "metadata": {
    "ExecuteTime": {
     "end_time": "2024-01-28T01:01:01.097946669Z",
     "start_time": "2024-01-28T01:01:01.096067054Z"
    }
   },
   "outputs": [],
   "source": [
    "BATCH_SIZE = 8\n",
    "NUM_CHANS = 3\n",
    "IMG_SIZE = 100\n",
    "\n",
    "batch = torch.rand(BATCH_SIZE, NUM_CHANS, IMG_SIZE, IMG_SIZE)"
   ]
  },
  {
   "cell_type": "code",
   "execution_count": 6,
   "id": "bbd37ec3-218a-452d-a96c-f311d08b62ef",
   "metadata": {
    "ExecuteTime": {
     "end_time": "2024-01-28T01:01:01.257827879Z",
     "start_time": "2024-01-28T01:01:01.098211086Z"
    }
   },
   "outputs": [
    {
     "data": {
      "text/plain": "torch.Size([8, 2, 100, 100])"
     },
     "execution_count": 6,
     "metadata": {},
     "output_type": "execute_result"
    }
   ],
   "source": [
    "outputs = model(batch)['out']\n",
    "outputs.shape"
   ]
  },
  {
   "cell_type": "code",
   "execution_count": 7,
   "id": "85973368-b8b0-4488-962a-2a1633f645e2",
   "metadata": {
    "ExecuteTime": {
     "end_time": "2024-01-28T01:01:01.300722913Z",
     "start_time": "2024-01-28T01:01:01.253223920Z"
    }
   },
   "outputs": [
    {
     "data": {
      "text/plain": "torch.Size([8, 100, 100])"
     },
     "execution_count": 7,
     "metadata": {},
     "output_type": "execute_result"
    }
   ],
   "source": [
    "targets = torch.randint(low=0, high=2, size=(BATCH_SIZE, IMG_SIZE, IMG_SIZE)).long()\n",
    "targets.shape"
   ]
  },
  {
   "cell_type": "markdown",
   "source": [
    "## Custom model"
   ],
   "metadata": {
    "collapsed": false
   },
   "id": "b848654fafe9eaf8"
  },
  {
   "cell_type": "code",
   "execution_count": 8,
   "outputs": [],
   "source": [
    "from pkg.models.supervise.convnext.convnext_encoder import ConvNextEncoder\n",
    "\n",
    "from segmentation_models_pytorch.decoders.deeplabv3.decoder import DeepLabV3PlusDecoder\n",
    "from segmentation_models_pytorch.decoders.fpn.decoder import FPNDecoder\n",
    "\n"
   ],
   "metadata": {
    "collapsed": false,
    "ExecuteTime": {
     "end_time": "2024-01-28T01:01:03.399583321Z",
     "start_time": "2024-01-28T01:01:01.652010366Z"
    }
   },
   "id": "db7b890eaa5be64e"
  },
  {
   "cell_type": "code",
   "execution_count": 9,
   "outputs": [],
   "source": [
    "import torch\n",
    "from torch import Tensor\n",
    "from torch.nn import functional as F\n",
    "from semseg.models.heads import SFHead"
   ],
   "metadata": {
    "collapsed": false,
    "ExecuteTime": {
     "end_time": "2024-01-28T01:01:03.440718928Z",
     "start_time": "2024-01-28T01:01:03.399804258Z"
    }
   },
   "id": "224a16326b495cd3"
  },
  {
   "cell_type": "code",
   "execution_count": 10,
   "outputs": [],
   "source": [
    "# decoder = DeepLabV3PlusDecoder(encoder_channels=encoder._out_channels,\n",
    "#                                out_channels=NUM_CLASSES,\n",
    "#                                )\n",
    "\n",
    "# decoder = FPNDecoder(encoder_channels=encoder._out_channels,\n",
    "#                      )\n",
    "class Model(nn.Module):\n",
    "    def __init__(self, num_classes, **kwargs):\n",
    "        super().__init__()\n",
    "        self.backbone = ConvNextEncoder()\n",
    "        \n",
    "        self.head = SFHead(self.backbone._out_channels, num_classes=num_classes)\n",
    "        \n",
    "    def forward(self, x):\n",
    "        outs = self.backbone(x)\n",
    "        out = self.head(outs)\n",
    "        \n",
    "        out = F.interpolate(out, size=x.shape[-2:], mode='bilinear', align_corners=True)\n",
    "        return out"
   ],
   "metadata": {
    "collapsed": false,
    "ExecuteTime": {
     "end_time": "2024-01-28T01:01:03.440884266Z",
     "start_time": "2024-01-28T01:01:03.440601050Z"
    }
   },
   "id": "85c44d22b4ac897d"
  },
  {
   "cell_type": "code",
   "execution_count": 11,
   "outputs": [],
   "source": [
    "model = Model(num_classes=NUM_CLASSES)"
   ],
   "metadata": {
    "collapsed": false,
    "ExecuteTime": {
     "end_time": "2024-01-28T01:01:04.316325801Z",
     "start_time": "2024-01-28T01:01:03.440696298Z"
    }
   },
   "id": "14b3f08eec38ae8c"
  },
  {
   "cell_type": "code",
   "execution_count": 12,
   "outputs": [
    {
     "data": {
      "text/plain": "torch.Size([8, 2, 100, 100])"
     },
     "execution_count": 12,
     "metadata": {},
     "output_type": "execute_result"
    }
   ],
   "source": [
    "model(batch).shape"
   ],
   "metadata": {
    "collapsed": false,
    "ExecuteTime": {
     "end_time": "2024-01-28T01:01:04.519537999Z",
     "start_time": "2024-01-28T01:01:04.316922363Z"
    }
   },
   "id": "a6e98865ff6b2f66"
  },
  {
   "cell_type": "code",
   "execution_count": 13,
   "outputs": [],
   "source": [
    "import omegaconf\n",
    "cfg = omegaconf.OmegaConf.load('../configs/convnext_sfnet.yml')"
   ],
   "metadata": {
    "collapsed": false,
    "ExecuteTime": {
     "end_time": "2024-01-28T01:01:04.925069946Z",
     "start_time": "2024-01-28T01:01:04.903311363Z"
    }
   },
   "id": "4d4bd2facd4f55cc"
  },
  {
   "cell_type": "code",
   "execution_count": 14,
   "outputs": [],
   "source": [
    "from core.opt import Opts\n",
    "from pkg.models.supervise.convnext.convnext_model import ConvNext_SFNet"
   ],
   "metadata": {
    "collapsed": false,
    "ExecuteTime": {
     "end_time": "2024-01-28T01:01:05.708319758Z",
     "start_time": "2024-01-28T01:01:05.701329361Z"
    }
   },
   "id": "46c4246ccff22c8c"
  },
  {
   "cell_type": "code",
   "execution_count": 15,
   "outputs": [],
   "source": [
    "model = ConvNext_SFNet(cfg)"
   ],
   "metadata": {
    "collapsed": false,
    "ExecuteTime": {
     "end_time": "2024-01-28T01:01:06.779726907Z",
     "start_time": "2024-01-28T01:01:06.068057070Z"
    }
   },
   "id": "2d2ad580d466e280"
  },
  {
   "cell_type": "code",
   "execution_count": 16,
   "outputs": [
    {
     "name": "stdout",
     "output_type": "stream",
     "text": [
      "logits torch.Size([8, 2, 100, 100])\n",
      "msk torch.Size([8, 100, 100])\n"
     ]
    }
   ],
   "source": [
    "batch_dict = {'images': batch}\n",
    "for key, value in model(batch_dict).items():\n",
    "    print(key, value.shape)\n"
   ],
   "metadata": {
    "collapsed": false,
    "ExecuteTime": {
     "end_time": "2024-01-28T01:01:07.682695079Z",
     "start_time": "2024-01-28T01:01:07.487355048Z"
    }
   },
   "id": "40ed1c2d3c0cf8bd"
  },
  {
   "cell_type": "markdown",
   "source": [
    "## RegNetY_UPerNet"
   ],
   "metadata": {
    "collapsed": false
   },
   "id": "4048c47c7939b3b1"
  },
  {
   "cell_type": "code",
   "execution_count": 17,
   "outputs": [],
   "source": [
    "from pkg.models.supervise.regnety.regnety_model import RegNetY_UPerNet"
   ],
   "metadata": {
    "collapsed": false,
    "ExecuteTime": {
     "end_time": "2024-01-28T01:01:10.888709414Z",
     "start_time": "2024-01-28T01:01:10.885666184Z"
    }
   },
   "id": "30f17bb67a0feef3"
  },
  {
   "cell_type": "code",
   "execution_count": 19,
   "outputs": [],
   "source": [
    "cfg = omegaconf.OmegaConf.load('../configs/regnety_upernet.yml')\n"
   ],
   "metadata": {
    "collapsed": false,
    "ExecuteTime": {
     "end_time": "2024-01-28T01:01:50.139920881Z",
     "start_time": "2024-01-28T01:01:50.122712359Z"
    }
   },
   "id": "14853f4bb6d13aac"
  },
  {
   "cell_type": "code",
   "execution_count": 20,
   "outputs": [],
   "source": [
    "model = ConvNext_SFNet(cfg)\n"
   ],
   "metadata": {
    "collapsed": false,
    "ExecuteTime": {
     "end_time": "2024-01-28T01:01:51.710471853Z",
     "start_time": "2024-01-28T01:01:50.959251397Z"
    }
   },
   "id": "aed0dcc71c6c7fdc"
  },
  {
   "cell_type": "code",
   "execution_count": 21,
   "outputs": [
    {
     "name": "stdout",
     "output_type": "stream",
     "text": [
      "logits torch.Size([8, 2, 100, 100])\n",
      "msk torch.Size([8, 100, 100])\n"
     ]
    }
   ],
   "source": [
    "batch_dict = {'images': batch}\n",
    "for key, value in model(batch_dict).items():\n",
    "    print(key, value.shape)\n"
   ],
   "metadata": {
    "collapsed": false,
    "ExecuteTime": {
     "end_time": "2024-01-28T01:01:56.082950592Z",
     "start_time": "2024-01-28T01:01:55.882022863Z"
    }
   },
   "id": "ddb88d5ac1fd2ad5"
  },
  {
   "cell_type": "code",
   "execution_count": 15,
   "outputs": [],
   "source": [],
   "metadata": {
    "collapsed": false,
    "ExecuteTime": {
     "end_time": "2024-01-23T16:18:31.723964921Z",
     "start_time": "2024-01-23T16:18:31.722796215Z"
    }
   },
   "id": "855d554cf0c633ff"
  },
  {
   "cell_type": "markdown",
   "source": [
    "## Multi Loss"
   ],
   "metadata": {
    "collapsed": false
   },
   "id": "e8a354156f492d61"
  },
  {
   "cell_type": "code",
   "execution_count": 16,
   "id": "91eaa3cd-39e8-4de7-8871-10ce27c3a5d7",
   "metadata": {
    "ExecuteTime": {
     "end_time": "2024-01-23T16:18:31.723987881Z",
     "start_time": "2024-01-23T16:18:31.722812225Z"
    }
   },
   "outputs": [],
   "source": [
    "loss = torch.nn.CrossEntropyLoss()"
   ]
  },
  {
   "cell_type": "code",
   "execution_count": 17,
   "id": "d6668888-40b1-44cd-bba2-bb501bfd1a86",
   "metadata": {
    "ExecuteTime": {
     "end_time": "2024-01-23T16:18:31.724074500Z",
     "start_time": "2024-01-23T16:18:31.722829295Z"
    }
   },
   "outputs": [
    {
     "data": {
      "text/plain": "tensor(0.7084, grad_fn=<NllLoss2DBackward0>)"
     },
     "execution_count": 17,
     "metadata": {},
     "output_type": "execute_result"
    }
   ],
   "source": [
    "loss(outputs, targets)"
   ]
  },
  {
   "cell_type": "code",
   "execution_count": 18,
   "id": "4327025e-3146-4499-b67e-73bfabb41640",
   "metadata": {
    "ExecuteTime": {
     "end_time": "2024-01-23T16:18:31.731736189Z",
     "start_time": "2024-01-23T16:18:31.722860704Z"
    }
   },
   "outputs": [
    {
     "data": {
      "text/plain": "torch.Size([8, 2, 100, 100])"
     },
     "execution_count": 18,
     "metadata": {},
     "output_type": "execute_result"
    }
   ],
   "source": [
    "onehot = F.one_hot(targets, num_classes=2).swapaxes(1, 3).float()\n",
    "onehot.shape"
   ]
  },
  {
   "cell_type": "code",
   "execution_count": 19,
   "id": "b0a044ec-02f4-41dd-954c-1c69d3f1bd34",
   "metadata": {
    "ExecuteTime": {
     "end_time": "2024-01-23T16:18:31.764398848Z",
     "start_time": "2024-01-23T16:18:31.729959350Z"
    }
   },
   "outputs": [
    {
     "data": {
      "text/plain": "tensor(0.7052, grad_fn=<BinaryCrossEntropyWithLogitsBackward0>)"
     },
     "execution_count": 19,
     "metadata": {},
     "output_type": "execute_result"
    }
   ],
   "source": [
    "nn.BCEWithLogitsLoss()(outputs, onehot)"
   ]
  },
  {
   "cell_type": "code",
   "execution_count": 20,
   "id": "b7279fb3-1743-493e-a340-7b765d928328",
   "metadata": {
    "ExecuteTime": {
     "end_time": "2024-01-23T16:18:31.764456628Z",
     "start_time": "2024-01-23T16:18:31.764260850Z"
    }
   },
   "outputs": [],
   "source": [
    "def _convert_to_onehot_labels(seg_label, num_classes):\n",
    "    \"\"\"Convert segmentation label to onehot.\n",
    "\n",
    "    Args:\n",
    "        seg_label (Tensor): Segmentation label of shape (N, H, W).\n",
    "        num_classes (int): Number of classes.\n",
    "\n",
    "    Returns:\n",
    "        Tensor: Onehot labels of shape (N, num_classes).\n",
    "    \"\"\"\n",
    "\n",
    "    batch_size = seg_label.size(0)\n",
    "    onehot_labels = seg_label.new_zeros((batch_size, num_classes))\n",
    "    for i in range(batch_size):\n",
    "        hist = seg_label[i].float().histc(\n",
    "            bins=num_classes, min=0, max=num_classes - 1)\n",
    "        onehot_labels[i] = hist > 0\n",
    "    return onehot_labels\n",
    "\n",
    "\n",
    "def mask_to_onehot(mask, num_classes):\n",
    "    \"\"\"\n",
    "    Convert a segmentation mask (B, H, W) to (B, C, H, W) one-hot mask.\n",
    "    \"\"\"\n",
    "    one_hot = torch.zeros((mask.shape[0], num_classes, *mask.shape[1:]), dtype=torch.float)\n",
    "    for i in range(num_classes):\n",
    "        one_hot[:, i, :, :] = (mask == i)\n",
    "    return one_hot\n",
    "\n",
    "\n",
    "def onehot_to_mask(one_hot):\n",
    "    \"\"\"\n",
    "    Convert a one-hot mask (B, C, H, W) to a segmentation mask (B, H, W).\n",
    "    \"\"\"\n",
    "    mask = torch.argmax(one_hot, dim=1)\n",
    "    return mask"
   ]
  },
  {
   "cell_type": "code",
   "execution_count": 20,
   "id": "8992659c-861e-47f6-8dc1-2351cd4f232f",
   "metadata": {
    "ExecuteTime": {
     "end_time": "2024-01-23T16:18:31.765051311Z",
     "start_time": "2024-01-23T16:18:31.764314939Z"
    }
   },
   "outputs": [],
   "source": []
  },
  {
   "cell_type": "code",
   "execution_count": 21,
   "id": "86de8bde-88d0-4292-b9c4-1b401e81ae5d",
   "metadata": {
    "ExecuteTime": {
     "end_time": "2024-01-23T16:18:31.765122430Z",
     "start_time": "2024-01-23T16:18:31.764336069Z"
    }
   },
   "outputs": [
    {
     "name": "stdout",
     "output_type": "stream",
     "text": [
      "torch.Size([8, 2, 100, 100])\n"
     ]
    }
   ],
   "source": [
    "onehot = mask_to_onehot(targets, num_classes=2)\n",
    "print(onehot.shape)\n",
    "assert torch.equal(onehot_to_mask(onehot), targets)\n"
   ]
  },
  {
   "cell_type": "code",
   "execution_count": 22,
   "id": "e5d00f58-9c0c-464e-908a-af9b389605b2",
   "metadata": {
    "ExecuteTime": {
     "end_time": "2024-01-23T16:18:31.765188339Z",
     "start_time": "2024-01-23T16:18:31.764358199Z"
    }
   },
   "outputs": [
    {
     "data": {
      "text/plain": "tensor(0.7051, grad_fn=<BinaryCrossEntropyWithLogitsBackward0>)"
     },
     "execution_count": 22,
     "metadata": {},
     "output_type": "execute_result"
    }
   ],
   "source": [
    "nn.BCEWithLogitsLoss()(outputs, onehot)"
   ]
  },
  {
   "cell_type": "code",
   "execution_count": 23,
   "id": "2d936d96-2a5f-4906-87a2-0e1461cc6aa1",
   "metadata": {
    "ExecuteTime": {
     "end_time": "2024-01-23T16:18:31.771511963Z",
     "start_time": "2024-01-23T16:18:31.764391358Z"
    }
   },
   "outputs": [],
   "source": [
    "import sys\n",
    "\n",
    "sys.path.append('..')"
   ]
  },
  {
   "cell_type": "code",
   "execution_count": 24,
   "id": "3cf4fbfa-0f67-4341-adef-4d4e61c25ef3",
   "metadata": {
    "ExecuteTime": {
     "end_time": "2024-01-23T16:18:31.778163794Z",
     "start_time": "2024-01-23T16:18:31.770798991Z"
    }
   },
   "outputs": [],
   "source": [
    "from core.utils.multi_losses import ComboLoss\n",
    "from core.utils.smooth_losses import MultiLoss\n"
   ]
  },
  {
   "cell_type": "code",
   "execution_count": 25,
   "id": "38cfc881-8cf9-4e50-b746-18d08dfb88c4",
   "metadata": {
    "ExecuteTime": {
     "end_time": "2024-01-23T16:18:31.808886126Z",
     "start_time": "2024-01-23T16:18:31.778255863Z"
    }
   },
   "outputs": [
    {
     "data": {
      "text/plain": "ComboLoss(\n  (bce): StableBCELoss()\n  (dice): DiceLoss()\n  (jaccard): JaccardLoss()\n  (lovasz): LovaszLoss()\n  (lovasz_sigmoid): LovaszLossSigmoid()\n  (focal): FocalLoss2d()\n)"
     },
     "execution_count": 25,
     "metadata": {},
     "output_type": "execute_result"
    }
   ],
   "source": [
    "weights = {'bce': 1,\n",
    "           # 'dice': 1,\n",
    "           # 'focal': 0.5,\n",
    "           # 'jaccard': 0.5,\n",
    "           # 'lovasz_sigmoid': 0.5,\n",
    "           }\n",
    "\n",
    "ComboLoss(weights=weights)"
   ]
  },
  {
   "cell_type": "code",
   "execution_count": 26,
   "id": "cf55f4ba-9ffd-448d-a6e4-1e64f31fbff8",
   "metadata": {
    "ExecuteTime": {
     "end_time": "2024-01-23T16:18:31.826867792Z",
     "start_time": "2024-01-23T16:18:31.786562183Z"
    }
   },
   "outputs": [
    {
     "data": {
      "text/plain": "tensor(0.7051, grad_fn=<ClampBackward1>)"
     },
     "execution_count": 26,
     "metadata": {},
     "output_type": "execute_result"
    }
   ],
   "source": [
    "ComboLoss(weights=weights)(outputs, onehot)"
   ]
  },
  {
   "cell_type": "code",
   "execution_count": 27,
   "outputs": [],
   "source": [
    "weights = {\n",
    "    'bce': 1,\n",
    "    # 'dice': 1,\n",
    "    # 'focal': 1,\n",
    "    # 'jaccard': 1,\n",
    "}\n",
    "smooth_factor = 0.3"
   ],
   "metadata": {
    "collapsed": false,
    "ExecuteTime": {
     "end_time": "2024-01-23T16:18:31.826928711Z",
     "start_time": "2024-01-23T16:18:31.826724704Z"
    }
   },
   "id": "6039c226515b43d7"
  },
  {
   "cell_type": "code",
   "execution_count": 28,
   "outputs": [
    {
     "data": {
      "text/plain": "tensor(0.7052, grad_fn=<ClampBackward1>)"
     },
     "execution_count": 28,
     "metadata": {},
     "output_type": "execute_result"
    }
   ],
   "source": [
    "MultiLoss(weights=weights, smooth_factor=smooth_factor)(outputs, onehot)"
   ],
   "metadata": {
    "collapsed": false,
    "ExecuteTime": {
     "end_time": "2024-01-23T16:18:31.827049550Z",
     "start_time": "2024-01-23T16:18:31.826770083Z"
    }
   },
   "id": "7234197f25668040"
  },
  {
   "cell_type": "code",
   "execution_count": 28,
   "id": "9e825b9e-1bde-4998-a673-8997a5c0c641",
   "metadata": {
    "ExecuteTime": {
     "end_time": "2024-01-23T16:18:31.827546654Z",
     "start_time": "2024-01-23T16:18:31.826798233Z"
    }
   },
   "outputs": [],
   "source": []
  },
  {
   "cell_type": "markdown",
   "source": [
    "## Schedulers"
   ],
   "metadata": {
    "collapsed": false
   },
   "id": "3b3ce93a5583c63c"
  },
  {
   "cell_type": "code",
   "execution_count": 153,
   "outputs": [],
   "source": [
    "import torch\n",
    "import numpy as np\n",
    "import matplotlib.pyplot as plt\n",
    "\n"
   ],
   "metadata": {
    "collapsed": false,
    "ExecuteTime": {
     "end_time": "2024-01-24T14:39:22.470995023Z",
     "start_time": "2024-01-24T14:39:22.469364935Z"
    }
   },
   "id": "380f3a548e438ed4"
  },
  {
   "cell_type": "code",
   "execution_count": 154,
   "outputs": [],
   "source": [
    "def plot_lr_scheduler(scheduler, epochs=100):\n",
    "    lr_l = []\n",
    "    ratios = []\n",
    "    for epoch in range(epochs):\n",
    "        scheduler.step()\n",
    "        lr_l.append(scheduler.get_lr()[0])\n",
    "        ratio = scheduler.get_lr_ratio()\n",
    "        ratios.append(ratio)\n",
    "        \n",
    "    fig, ax = plt.subplots(1, 2, figsize=(12, 4))\n",
    "    ax[0].plot(lr_l)\n",
    "    ax[0].set_title('lr')\n",
    "    ax[1].plot(ratios)\n",
    "    ax[1].set_title('ratio')\n",
    "    plt.show()\n",
    "    "
   ],
   "metadata": {
    "collapsed": false,
    "ExecuteTime": {
     "end_time": "2024-01-24T14:39:22.679046476Z",
     "start_time": "2024-01-24T14:39:22.671996030Z"
    }
   },
   "id": "6ed882f0214897a"
  },
  {
   "cell_type": "code",
   "execution_count": 155,
   "outputs": [],
   "source": [
    "model = torch.nn.Linear(2, 1)\n",
    "optimizer = torch.optim.SGD(model.parameters(), lr=0.01)\n",
    "num_epochs = 100"
   ],
   "metadata": {
    "collapsed": false,
    "ExecuteTime": {
     "end_time": "2024-01-24T14:39:23.932556394Z",
     "start_time": "2024-01-24T14:39:23.925233870Z"
    }
   },
   "id": "b14f54057806347f"
  },
  {
   "cell_type": "code",
   "execution_count": 156,
   "outputs": [],
   "source": [
    "from core.utils.schedulers import WarmupPolyLR\n"
   ],
   "metadata": {
    "collapsed": false,
    "ExecuteTime": {
     "end_time": "2024-01-24T14:39:24.677256228Z",
     "start_time": "2024-01-24T14:39:24.671902428Z"
    }
   },
   "id": "43f1309412008aaf"
  },
  {
   "cell_type": "code",
   "execution_count": 157,
   "outputs": [],
   "source": [
    "scheduler = WarmupPolyLR(optimizer, power=0.9, max_iter=num_epochs, warmup_iter=10, warmup_ratio=0.1, warmup='linear')\n"
   ],
   "metadata": {
    "collapsed": false,
    "ExecuteTime": {
     "end_time": "2024-01-24T14:39:26.239295397Z",
     "start_time": "2024-01-24T14:39:26.234276446Z"
    }
   },
   "id": "4a0496da41bbd35e"
  },
  {
   "cell_type": "code",
   "execution_count": 158,
   "outputs": [
    {
     "data": {
      "text/plain": "<Figure size 1200x400 with 2 Axes>",
      "image/png": "[encoded data removed]"
     },
     "metadata": {},
     "output_type": "display_data"
    }
   ],
   "source": [
    "plot_lr_scheduler(scheduler, epochs=num_epochs)"
   ],
   "metadata": {
    "collapsed": false,
    "ExecuteTime": {
     "end_time": "2024-01-24T14:39:27.098578062Z",
     "start_time": "2024-01-24T14:39:27.026204238Z"
    }
   },
   "id": "944c1e86ff4616ea"
  },
  {
   "cell_type": "code",
   "execution_count": 164,
   "outputs": [],
   "source": [
    "from typing import List\n",
    "# make a custom scheduler with repeated warmup\n",
    "from core.utils.schedulers import WarmupLR, WarmupPolyLR\n",
    "from torch.optim.lr_scheduler import _LRScheduler\n",
    "class RepeatedWarmupPolyLR(_LRScheduler):\n",
    "    \n",
    "    def __init__(self, optimizer, warmup_iter=10, warmup_ratio=0.1, warmup='exp', last_epoch=-1, max_iter=100, power=0.9, restart_warmup_epochs: List[int] = None) -> None:\n",
    "        self.warmup_iter = warmup_iter\n",
    "        self.warmup_ratio = warmup_ratio\n",
    "        self.warmup = warmup\n",
    "        \n",
    "        self.max_iter = max_iter\n",
    "        self.power = power\n",
    "        \n",
    "        self.restart_warmup_epochs = restart_warmup_epochs\n",
    "        if restart_warmup_epochs is not None:\n",
    "            assert len(restart_warmup_epochs) > 0, 'restart_warmup_epochs should be a list of epochs'\n",
    "            self.restart_warmup_epochs.sort()\n",
    "            assert self.restart_warmup_epochs[0] >= self.warmup_iter, 'restart_warmup_epochs should be greater than warmup_iter'\n",
    "        super().__init__(optimizer, last_epoch)\n",
    "\n",
    "    def get_lr(self):\n",
    "        ratio = self.get_lr_ratio()\n",
    "        return [ratio * lr for lr in self.base_lrs]\n",
    "\n",
    "    def get_lr_ratio(self):\n",
    "        # return self.get_warmup_ratio() if self.last_epoch < self.warmup_iter else self.get_main_ratio()\n",
    "        if self.last_epoch < self.warmup_iter:\n",
    "            return self.get_warmup_ratio()\n",
    "        else:\n",
    "            if self.restart_warmup_epochs is not None:\n",
    "                if self.last_epoch in self.restart_warmup_epochs:\n",
    "                    current_epoch = self.last_epoch\n",
    "                    self.last_epoch = -1\n",
    "                    self.restart_warmup_epochs.pop(0)   \n",
    "                    self.restart_warmup_epochs = [epoch - current_epoch for epoch in self.restart_warmup_epochs]\n",
    "                    self.restart_warmup_epochs = [epoch for epoch in self.restart_warmup_epochs if epoch > 0]\n",
    "                    \n",
    "                    print(f'warmup iter is set to: {self.warmup_iter}, restart_warmup_epochs: {self.restart_warmup_epochs}')\n",
    "                    \n",
    "                    return self.get_warmup_ratio()\n",
    "            return self.get_main_ratio()\n",
    "    def get_main_ratio(self):\n",
    "        real_iter = self.last_epoch - self.warmup_iter\n",
    "        real_max_iter = self.max_iter - self.warmup_iter\n",
    "        alpha = real_iter / real_max_iter\n",
    "        ratio = (1 - alpha) ** self.power\n",
    "        return ratio\n",
    "\n",
    "    def get_warmup_ratio(self):\n",
    "        assert self.warmup in ['linear', 'exp']\n",
    "        alpha = self.last_epoch / self.warmup_iter\n",
    "        \n",
    "        ratio = self.warmup_ratio + (\n",
    "                1. - self.warmup_ratio) * alpha if self.warmup == 'linear' else self.warmup_ratio ** (1. - alpha)\n",
    "        return ratio"
   ],
   "metadata": {
    "collapsed": false,
    "ExecuteTime": {
     "end_time": "2024-01-24T15:09:31.882542838Z",
     "start_time": "2024-01-24T15:09:31.864161785Z"
    }
   },
   "id": "2dc9369061f34d18"
  },
  {
   "cell_type": "code",
   "execution_count": 165,
   "outputs": [],
   "source": [
    "scheduler = RepeatedWarmupPolyLR(optimizer, max_iter=num_epochs, restart_warmup_epochs=None, warmup_iter=10)"
   ],
   "metadata": {
    "collapsed": false,
    "ExecuteTime": {
     "end_time": "2024-01-24T15:09:32.503199371Z",
     "start_time": "2024-01-24T15:09:32.499201868Z"
    }
   },
   "id": "9e82e0ec175c8788"
  },
  {
   "cell_type": "code",
   "execution_count": 166,
   "outputs": [
    {
     "data": {
      "text/plain": "<Figure size 1200x400 with 2 Axes>",
      "image/png": "[encoded data removed]"
     },
     "metadata": {},
     "output_type": "display_data"
    }
   ],
   "source": [
    "plot_lr_scheduler(scheduler, epochs=num_epochs)"
   ],
   "metadata": {
    "collapsed": false,
    "ExecuteTime": {
     "end_time": "2024-01-24T15:09:32.850321227Z",
     "start_time": "2024-01-24T15:09:32.757928909Z"
    }
   },
   "id": "6538d6dafd019741"
  },
  {
   "cell_type": "code",
   "execution_count": 168,
   "outputs": [
    {
     "name": "stdout",
     "output_type": "stream",
     "text": [
      "warmup iter is set to: 10, restart_warmup_epochs: []\n"
     ]
    },
    {
     "data": {
      "text/plain": "<Figure size 1200x400 with 2 Axes>",
      "image/png": "[encoded data removed]"
     },
     "metadata": {},
     "output_type": "display_data"
    }
   ],
   "source": [
    "scheduler = RepeatedWarmupPolyLR(optimizer, max_iter=num_epochs, warmup_iter=10, restart_warmup_epochs=[10])\n",
    "plot_lr_scheduler(scheduler, epochs=num_epochs)\n"
   ],
   "metadata": {
    "collapsed": false,
    "ExecuteTime": {
     "end_time": "2024-01-24T15:10:06.595765961Z",
     "start_time": "2024-01-24T15:10:06.513748911Z"
    }
   },
   "id": "985010c5f35f53a7"
  },
  {
   "cell_type": "code",
   "execution_count": 139,
   "outputs": [],
   "source": [
    "|"
   ],
   "metadata": {
    "collapsed": false,
    "ExecuteTime": {
     "end_time": "2024-01-24T14:07:33.817717839Z",
     "start_time": "2024-01-24T14:07:33.810552752Z"
    }
   },
   "id": "969c05da0146a5f6"
  },
  {
   "cell_type": "code",
   "execution_count": 108,
   "outputs": [],
   "source": [],
   "metadata": {
    "collapsed": false,
    "ExecuteTime": {
     "end_time": "2024-01-24T13:56:24.924846427Z",
     "start_time": "2024-01-24T13:56:24.906914511Z"
    }
   },
   "id": "3ce349ca3766268c"
  },
  {
   "cell_type": "code",
   "execution_count": null,
   "outputs": [],
   "source": [],
   "metadata": {
    "collapsed": false
   },
   "id": "787f801b76f1e6e1"
  }
 ],
 "metadata": {
  "kernelspec": {
   "display_name": "Python 3 (ipykernel)",
   "language": "python",
   "name": "python3"
  },
  "language_info": {
   "codemirror_mode": {
    "name": "ipython",
    "version": 3
   },
   "file_extension": ".py",
   "mimetype": "text/x-python",
   "name": "python",
   "nbconvert_exporter": "python",
   "pygments_lexer": "ipython3",
   "version": "3.11.7"
  }
 },
 "nbformat": 4,
 "nbformat_minor": 5
}
