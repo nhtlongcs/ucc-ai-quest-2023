{
 "cells": [
  {
   "cell_type": "markdown",
   "metadata": {
    "id": "4Q7nlrsOKfAj"
   },
   "source": [
    "## Inference guide"
   ]
  },
  {
   "cell_type": "code",
   "execution_count": 1,
   "metadata": {
    "ExecuteTime": {
     "end_time": "2024-02-07T00:00:29.311476765Z",
     "start_time": "2024-02-07T00:00:29.311329877Z"
    },
    "collapsed": false
   },
   "outputs": [],
   "source": [
    "import os\n",
    "import shutil\n",
    "import os.path as osp"
   ]
  },
  {
   "cell_type": "code",
   "execution_count": 2,
   "metadata": {
    "ExecuteTime": {
     "end_time": "2024-02-07T00:00:29.311590973Z",
     "start_time": "2024-02-07T00:00:29.311414666Z"
    },
    "collapsed": false
   },
   "outputs": [],
   "source": [
    "EXP_NAME = 'fold_3-mask2former-city_21k-large-epoch_89'\n",
    "CKPT_PATH = \"../runs/mask2former/ku3nqmrl/checkpoints/fold_3-mask2former-city_21k-large-Mask2former-epoch=89-val_high_vegetation__IoU=89.7000.ckpt\"\n",
    "CFG_PATH = ('../configs/mask2former/mask2former-city-21k.yml')\n"
   ]
  },
  {
   "cell_type": "code",
   "execution_count": 3,
   "metadata": {
    "ExecuteTime": {
     "end_time": "2024-02-07T00:00:29.311721742Z",
     "start_time": "2024-02-07T00:00:29.311442455Z"
    },
    "collapsed": false
   },
   "outputs": [
    {
     "data": {
      "text/plain": [
       "(True,\n",
       " True,\n",
       " 'fold_3-mask2former-city_21k-large-Mask2former-epoch=89-val_high_vegetation__IoU=89.7000.ckpt',\n",
       " 'mask2former-city-21k.yml')"
      ]
     },
     "execution_count": 3,
     "metadata": {},
     "output_type": "execute_result"
    }
   ],
   "source": [
    "CKPT_NAME = osp.basename(CKPT_PATH)\n",
    "CFG_NAME = osp.basename(CFG_PATH)\n",
    "\n",
    "osp.exists(CKPT_PATH), osp.exists(CFG_PATH), CKPT_NAME, CFG_NAME\n"
   ]
  },
  {
   "cell_type": "code",
   "execution_count": 4,
   "metadata": {
    "ExecuteTime": {
     "end_time": "2024-02-07T00:00:31.203215806Z",
     "start_time": "2024-02-07T00:00:29.311469165Z"
    },
    "collapsed": false
   },
   "outputs": [
    {
     "data": {
      "text/plain": [
       "'fold_3-mask2former-city_21k-large-epoch_89/mask2former-city-21k.yml'"
      ]
     },
     "execution_count": 4,
     "metadata": {},
     "output_type": "execute_result"
    }
   ],
   "source": [
    "os.makedirs(EXP_NAME, exist_ok=True)\n",
    "shutil.copy(CKPT_PATH, osp.join(EXP_NAME, 'best.ckpt'))\n",
    "shutil.copy(CFG_PATH, EXP_NAME)"
   ]
  },
  {
   "cell_type": "code",
   "execution_count": 5,
   "metadata": {
    "ExecuteTime": {
     "end_time": "2024-02-07T00:00:31.205866631Z",
     "start_time": "2024-02-07T00:00:31.204125834Z"
    },
    "collapsed": false
   },
   "outputs": [],
   "source": [
    "# create inference config\n",
    "TEST_IMG_DIR = \"../data/private/img/test/\"\n",
    "\n",
    "config = f\"\"\"\n",
    "global:\n",
    "  pretrained: null\n",
    "  save_path: \"./result.json\"\n",
    "  batch_size: 1\n",
    "  \n",
    "data:\n",
    "  SIZE: null # ORIGINAL SIZE\n",
    "  IMG_DIR: {TEST_IMG_DIR}\n",
    "\n",
    "model:\n",
    "  name: Mask2former\n",
    "  args:\n",
    "    NUM_CLASS: 2\n",
    "    PRETRAINED: \"facebook/mask2former-swin-large-cityscapes-semantic\"\n",
    "    freeze_epochs: -1\n",
    "    \n",
    "loss:\n",
    "  weights:\n",
    "    bce: 1.0\n",
    "  smooth_factor: 0.2\n",
    "\"\"\"\n",
    "with open(f'./{EXP_NAME}/inference.yml', 'w') as f:\n",
    "    f.write(config)\n"
   ]
  },
  {
   "cell_type": "code",
   "execution_count": 6,
   "metadata": {
    "ExecuteTime": {
     "end_time": "2024-02-07T00:01:25.574318036Z",
     "start_time": "2024-02-07T00:00:31.205643834Z"
    },
    "collapsed": false
   },
   "outputs": [
    {
     "name": "stdout",
     "output_type": "stream",
     "text": [
      "Overriding configurating\r\n",
      "Some weights of Mask2FormerForUniversalSegmentation were not initialized from the model checkpoint at facebook/mask2former-swin-base-ade-semantic and are newly initialized because the shapes did not match:\r\n",
      "- model.transformer_module.queries_embedder.weight: found shape torch.Size([100, 256]) in the checkpoint and torch.Size([2, 256]) in the model instantiated\r\n",
      "- model.transformer_module.queries_features.weight: found shape torch.Size([100, 256]) in the checkpoint and torch.Size([2, 256]) in the model instantiated\r\n",
      "You should probably TRAIN this model on a down-stream task to be able to use it for predictions and inference.\r\n",
      "[WARNING] learning rate is not defined, auto set to 1e-3\r\n",
      "Some weights of Mask2FormerForUniversalSegmentation were not initialized from the model checkpoint at facebook/mask2former-swin-large-cityscapes-semantic and are newly initialized because the shapes did not match:\r\n",
      "- model.transformer_module.queries_embedder.weight: found shape torch.Size([100, 256]) in the checkpoint and torch.Size([2, 256]) in the model instantiated\r\n",
      "- model.transformer_module.queries_features.weight: found shape torch.Size([100, 256]) in the checkpoint and torch.Size([2, 256]) in the model instantiated\r\n",
      "You should probably TRAIN this model on a down-stream task to be able to use it for predictions and inference.\r\n",
      "GPU available: True (cuda), used: True\r\n",
      "TPU available: False, using: 0 TPU cores\r\n",
      "IPU available: False, using: 0 IPUs\r\n",
      "HPU available: False, using: 0 HPUs\r\n",
      "You are using a CUDA device ('NVIDIA GeForce RTX 4090') that has Tensor Cores. To properly utilize them, you should set `torch.set_float32_matmul_precision('medium' | 'high')` which will trade-off precision for performance. For more details, read https://pytorch.org/docs/stable/generated/torch.set_float32_matmul_precision.html#torch.set_float32_matmul_precision\r\n",
      "LOCAL_RANK: 0 - CUDA_VISIBLE_DEVICES: [0]\r\n",
      "Predicting DataLoader 0: 100%|████████████████| 783/783 [00:46<00:00, 16.71it/s]\r\n"
     ]
    }
   ],
   "source": [
    "!ucc-pred   -c  ./{EXP_NAME}/inference.yml \\\n",
    "            -o  global.pretrained=./{EXP_NAME}/best.ckpt\\\n",
    "                data.IMG_DIR={TEST_IMG_DIR} \\\n",
    "                global.save_path=./{EXP_NAME}/results.json"
   ]
  },
  {
   "cell_type": "code",
   "execution_count": 7,
   "metadata": {
    "ExecuteTime": {
     "end_time": "2024-02-07T00:01:25.594012963Z",
     "start_time": "2024-02-07T00:01:25.574677281Z"
    },
    "collapsed": false
   },
   "outputs": [],
   "source": [
    "import json \n",
    "import os\n",
    "with open(f'./{EXP_NAME}/results.json', 'r') as f:\n",
    "    j = json.loads(f.read())\n",
    "assert len(j) == len(os.listdir(TEST_IMG_DIR))"
   ]
  },
  {
   "cell_type": "code",
   "execution_count": 8,
   "metadata": {
    "ExecuteTime": {
     "end_time": "2024-02-07T00:01:25.963772709Z",
     "start_time": "2024-02-07T00:01:25.594328479Z"
    },
    "collapsed": false
   },
   "outputs": [
    {
     "name": "stdout",
     "output_type": "stream",
     "text": [
      "/home/tuantran/ucc-ai-quest-2023/notebooks/fold_3-mask2former-city_21k-large-epoch_89\n",
      "  adding: results.json (deflated 64%)\r\n",
      "/home/tuantran/ucc-ai-quest-2023/notebooks\n"
     ]
    }
   ],
   "source": [
    "%cd {EXP_NAME}\n",
    "!rm -rf results.zip\n",
    "!zip results.zip results.json\n",
    "%cd -"
   ]
  },
  {
   "cell_type": "code",
   "execution_count": 8,
   "metadata": {
    "ExecuteTime": {
     "end_time": "2024-02-07T00:01:25.964235752Z",
     "start_time": "2024-02-07T00:01:25.963036118Z"
    },
    "collapsed": false
   },
   "outputs": [],
   "source": []
  }
 ],
 "metadata": {
  "accelerator": "GPU",
  "colab": {
   "collapsed_sections": [],
   "name": "[AIC22][VER] Training Colors Classifier guide.ipynb",
   "provenance": []
  },
  "kernelspec": {
   "display_name": "Python 3 (ipykernel)",
   "language": "python",
   "name": "python3"
  },
  "language_info": {
   "codemirror_mode": {
    "name": "ipython",
    "version": 3
   },
   "file_extension": ".py",
   "mimetype": "text/x-python",
   "name": "python",
   "nbconvert_exporter": "python",
   "pygments_lexer": "ipython3",
   "version": "3.11.7"
  },
  "vscode": {
   "interpreter": {
    "hash": "20ae68c5166a594adc0b9bc0156f781891935baaf9f86f15a7c294214ff40d3d"
   }
  },
  "widgets": {
   "application/vnd.jupyter.widget-state+json": {}
  }
 },
 "nbformat": 4,
 "nbformat_minor": 4
}
